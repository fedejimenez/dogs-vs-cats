{
  "nbformat": 4,
  "nbformat_minor": 0,
  "metadata": {
    "colab": {
      "name": "dogs_vs_cats_colab.ipynb",
      "version": "0.3.2",
      "provenance": [],
      "include_colab_link": true
    },
    "kernelspec": {
      "name": "python3",
      "display_name": "Python 3"
    }
  },
  "cells": [
    {
      "cell_type": "markdown",
      "metadata": {
        "id": "view-in-github",
        "colab_type": "text"
      },
      "source": [
        "<a href=\"https://colab.research.google.com/github/fedejimenez/dogs-vs-cats/blob/master/dogs_vs_cats_colab.ipynb\" target=\"_parent\"><img src=\"https://colab.research.google.com/assets/colab-badge.svg\" alt=\"Open In Colab\"/></a>"
      ]
    },
    {
      "cell_type": "markdown",
      "metadata": {
        "id": "Y9KbHpEy9Y4-",
        "colab_type": "text"
      },
      "source": [
        "#  DOGS vs CATS\n",
        "##Convolutional Neural Network \n",
        "\n",
        " First Install Theano, Tensorflow & Keras\n",
        "\n"
      ]
    },
    {
      "cell_type": "markdown",
      "metadata": {
        "id": "vfGNuLx99etd",
        "colab_type": "text"
      },
      "source": [
        "## PART 1 - Building the CNN"
      ]
    },
    {
      "cell_type": "code",
      "metadata": {
        "id": "NmY91gDr-AXx",
        "colab_type": "code",
        "colab": {}
      },
      "source": [
        "# Import the Keras libraries and packages\n",
        "from keras.models import Sequential        # To initialize an NN as a sequence of layers\n",
        "from keras.layers import Conv2D            # To use convolution layers (2D images)\n",
        "from keras.layers import MaxPooling2D      # To use pooling layer\n",
        "from keras.layers import Flatten           # To convert the the pool feature maps into an input vector\n",
        "from keras.layers import Dense             # To add the fully connected layers into a classic ANN\n",
        " "
      ],
      "execution_count": 0,
      "outputs": []
    },
    {
      "cell_type": "code",
      "metadata": {
        "id": "xtbt7sxc-ERf",
        "colab_type": "code",
        "colab": {}
      },
      "source": [
        " \n",
        "# Initialize the CNN\n",
        "classifier = Sequential()"
      ],
      "execution_count": 0,
      "outputs": []
    },
    {
      "cell_type": "code",
      "metadata": {
        "id": "MEg62aOz-IZX",
        "colab_type": "code",
        "colab": {}
      },
      "source": [
        "# Step 1 - Convolutional layer\n",
        "classifier.add(Conv2D(32, (3, 3), input_shape=(64, 64, 3), activation = 'relu'))   # 32 feature detectors of 3x3 (rowxcol) | images: colored, 64x64"
      ],
      "execution_count": 0,
      "outputs": []
    },
    {
      "cell_type": "code",
      "metadata": {
        "id": "SH_pbaGW-mYB",
        "colab_type": "code",
        "colab": {}
      },
      "source": [
        "# Step 2 - Pooling to reduce the size of the feature map\n",
        "classifier.add(MaxPooling2D(pool_size = (2, 2)))"
      ],
      "execution_count": 0,
      "outputs": []
    },
    {
      "cell_type": "code",
      "metadata": {
        "id": "9Ydt93Oa-pQq",
        "colab_type": "code",
        "colab": {}
      },
      "source": [
        "# Add a second Convolutional Layer to improve accuracy\n",
        "classifier.add(Conv2D(32, (3, 3), activation = 'relu'))   \n",
        "classifier.add(MaxPooling2D(pool_size = (2, 2)))"
      ],
      "execution_count": 0,
      "outputs": []
    },
    {
      "cell_type": "code",
      "metadata": {
        "id": "R7L27gDq-8IG",
        "colab_type": "code",
        "colab": {}
      },
      "source": [
        "# Step 3 - Flattening to prepare the input layer of a futur ANN (as a vector)\n",
        "classifier.add(Flatten())   "
      ],
      "execution_count": 0,
      "outputs": []
    },
    {
      "cell_type": "code",
      "metadata": {
        "id": "XyHm071I-_s2",
        "colab_type": "code",
        "colab": {}
      },
      "source": [
        "# Step 4 - Full Connection (classic ANN)\n",
        "classifier.add(Dense(activation = 'relu', units=128))            # 128 hidden nodes\n",
        "classifier.add(Dense(activation = 'sigmoid', units=1))           # sigmoid for binary output: cat or dog"
      ],
      "execution_count": 0,
      "outputs": []
    },
    {
      "cell_type": "code",
      "metadata": {
        "id": "qaklxLrx_YgV",
        "colab_type": "code",
        "colab": {}
      },
      "source": [
        "# Compiling the CNN\n",
        "classifier.compile(optimizer = 'adam', loss = 'binary_crossentropy', metrics = ['accuracy'])"
      ],
      "execution_count": 0,
      "outputs": []
    },
    {
      "cell_type": "markdown",
      "metadata": {
        "id": "4SS_PuUV_bXA",
        "colab_type": "text"
      },
      "source": [
        "## PART 2 - Fitting the CNN to the images"
      ]
    },
    {
      "cell_type": "code",
      "metadata": {
        "id": "3ig4T1Sb_d6R",
        "colab_type": "code",
        "colab": {}
      },
      "source": [
        "# Image Augmentation - preprocess to prevent overfitting\n",
        "from keras.preprocessing.image import ImageDataGenerator"
      ],
      "execution_count": 0,
      "outputs": []
    },
    {
      "cell_type": "code",
      "metadata": {
        "id": "U5En09Qg_k-b",
        "colab_type": "code",
        "colab": {}
      },
      "source": [
        "# Prepare image augmentation\n",
        "train_datagen = ImageDataGenerator(\n",
        "        rescale=1./255,\n",
        "        shear_range=0.2,\n",
        "        zoom_range=0.2,\n",
        "        horizontal_flip=True)"
      ],
      "execution_count": 0,
      "outputs": []
    },
    {
      "cell_type": "code",
      "metadata": {
        "id": "ZA0Sz1cR_ncp",
        "colab_type": "code",
        "colab": {}
      },
      "source": [
        "test_datagen = ImageDataGenerator(rescale=1./255)"
      ],
      "execution_count": 0,
      "outputs": []
    },
    {
      "cell_type": "code",
      "metadata": {
        "id": "_pO2Dd2WDhjy",
        "colab_type": "code",
        "colab": {}
      },
      "source": [
        "# Import dataset from google drive\n",
        "from google.colab import drive\n",
        "\n",
        "drive.mount('/content/gdrive')\n",
        "root_path = 'gdrive/My Drive/code/machine_learning/dogs_vs_cats/dataset'  #change dir to your project folder"
      ],
      "execution_count": 0,
      "outputs": []
    },
    {
      "cell_type": "code",
      "metadata": {
        "id": "bCkIlTmG_pzv",
        "colab_type": "code",
        "colab": {}
      },
      "source": [
        "# Apply image augmentation to the training set and resizing images \n",
        "training_set = train_datagen.flow_from_directory(root_path + '/training_set',\n",
        "                                                 target_size=(64, 64),\n",
        "                                                 batch_size=32,\n",
        "                                                 class_mode='binary')"
      ],
      "execution_count": 0,
      "outputs": []
    },
    {
      "cell_type": "code",
      "metadata": {
        "id": "6vTP0rGlAXlI",
        "colab_type": "code",
        "colab": {}
      },
      "source": [
        "  test_set = test_datagen.flow_from_directory(root_path + '/test_set',\n",
        "                                            target_size=(64, 64),\n",
        "                                            batch_size=32,\n",
        "                                            class_mode='binary')"
      ],
      "execution_count": 0,
      "outputs": []
    },
    {
      "cell_type": "code",
      "metadata": {
        "id": "YE9hzyB9AcMx",
        "colab_type": "code",
        "colab": {}
      },
      "source": [
        "classifier.fit_generator(training_set,\n",
        "                         steps_per_epoch=250,\n",
        "                         epochs=25,\n",
        "                         validation_data=test_set,\n",
        "                         validation_steps=100\n",
        "                         )"
      ],
      "execution_count": 0,
      "outputs": []
    }
  ]
}