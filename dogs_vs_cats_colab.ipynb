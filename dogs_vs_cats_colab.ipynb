{
  "nbformat": 4,
  "nbformat_minor": 0,
  "metadata": {
    "colab": {
      "name": "dogs_vs_cats_colab.ipynb",
      "provenance": [],
      "include_colab_link": true
    },
    "kernelspec": {
      "name": "python3",
      "display_name": "Python 3"
    }
  },
  "cells": [
    {
      "cell_type": "markdown",
      "metadata": {
        "id": "view-in-github",
        "colab_type": "text"
      },
      "source": [
        "<a href=\"https://colab.research.google.com/github/fedejimenez/dogs-vs-cats/blob/master/dogs_vs_cats_colab.ipynb\" target=\"_parent\"><img src=\"https://colab.research.google.com/assets/colab-badge.svg\" alt=\"Open In Colab\"/></a>"
      ]
    },
    {
      "cell_type": "markdown",
      "metadata": {
        "id": "Y9KbHpEy9Y4-",
        "colab_type": "text"
      },
      "source": [
        "#  DOGS vs CATS\n",
        "##Convolutional Neural Network \n",
        "\n",
        " First Install Theano, Tensorflow & Keras\n",
        "\n"
      ]
    },
    {
      "cell_type": "markdown",
      "metadata": {
        "id": "vfGNuLx99etd",
        "colab_type": "text"
      },
      "source": [
        "## PART 1 - Building the CNN"
      ]
    },
    {
      "cell_type": "code",
      "metadata": {
        "id": "NmY91gDr-AXx",
        "colab_type": "code",
        "colab": {}
      },
      "source": [
        "# Import the Keras libraries and packages\n",
        "from keras.models import Sequential        # To initialize an NN as a sequence of layers\n",
        "from keras.layers import Conv2D            # To use convolution layers (2D images)\n",
        "from keras.layers import MaxPooling2D      # To use pooling layer\n",
        "from keras.layers import Flatten           # To convert the the pool feature maps into an input vector\n",
        "from keras.layers import Dense             # To add the fully connected layers into a classic ANN"
      ],
      "execution_count": 0,
      "outputs": []
    },
    {
      "cell_type": "code",
      "metadata": {
        "id": "xtbt7sxc-ERf",
        "colab_type": "code",
        "colab": {}
      },
      "source": [
        " # Initialize the CNN\n",
        "classifier = Sequential()"
      ],
      "execution_count": 0,
      "outputs": []
    },
    {
      "cell_type": "code",
      "metadata": {
        "id": "MEg62aOz-IZX",
        "colab_type": "code",
        "colab": {}
      },
      "source": [
        "# Step 1 - Convolutional layer\n",
        "classifier.add(Conv2D(32, (3, 3), input_shape=(64, 64, 3), activation = 'relu'))   # 32 feature detectors of 3x3 (rowxcol) | images: colored, 64x64"
      ],
      "execution_count": 0,
      "outputs": []
    },
    {
      "cell_type": "code",
      "metadata": {
        "id": "SH_pbaGW-mYB",
        "colab_type": "code",
        "colab": {}
      },
      "source": [
        "# Step 2 - Pooling to reduce the size of the feature map\n",
        "classifier.add(MaxPooling2D(pool_size = (2, 2)))"
      ],
      "execution_count": 0,
      "outputs": []
    },
    {
      "cell_type": "code",
      "metadata": {
        "id": "9Ydt93Oa-pQq",
        "colab_type": "code",
        "colab": {}
      },
      "source": [
        "# Add a second Convolutional Layer to improve accuracy\n",
        "classifier.add(Conv2D(32, (3, 3), activation = 'relu'))   \n",
        "classifier.add(MaxPooling2D(pool_size = (2, 2)))"
      ],
      "execution_count": 0,
      "outputs": []
    },
    {
      "cell_type": "code",
      "metadata": {
        "id": "R7L27gDq-8IG",
        "colab_type": "code",
        "colab": {}
      },
      "source": [
        "# Step 3 - Flattening to prepare the input layer of a futur ANN (as a vector)\n",
        "classifier.add(Flatten())   "
      ],
      "execution_count": 0,
      "outputs": []
    },
    {
      "cell_type": "code",
      "metadata": {
        "id": "XyHm071I-_s2",
        "colab_type": "code",
        "colab": {}
      },
      "source": [
        "# Step 4 - Full Connection (classic ANN)\n",
        "classifier.add(Dense(activation = 'relu', units=128))            # 128 hidden nodes\n",
        "classifier.add(Dense(activation = 'sigmoid', units=1))           # sigmoid for binary output: cat or dog"
      ],
      "execution_count": 0,
      "outputs": []
    },
    {
      "cell_type": "code",
      "metadata": {
        "id": "qaklxLrx_YgV",
        "colab_type": "code",
        "colab": {}
      },
      "source": [
        "# Compiling the CNN\n",
        "classifier.compile(optimizer = 'adam', loss = 'binary_crossentropy', metrics = ['accuracy'])"
      ],
      "execution_count": 0,
      "outputs": []
    },
    {
      "cell_type": "markdown",
      "metadata": {
        "id": "4SS_PuUV_bXA",
        "colab_type": "text"
      },
      "source": [
        "## PART 2 - Fitting the CNN to the images"
      ]
    },
    {
      "cell_type": "code",
      "metadata": {
        "id": "3ig4T1Sb_d6R",
        "colab_type": "code",
        "colab": {}
      },
      "source": [
        "# Image Augmentation - preprocess to prevent overfitting\n",
        "from keras.preprocessing.image import ImageDataGenerator"
      ],
      "execution_count": 0,
      "outputs": []
    },
    {
      "cell_type": "code",
      "metadata": {
        "id": "U5En09Qg_k-b",
        "colab_type": "code",
        "colab": {}
      },
      "source": [
        "# Prepare image augmentation\n",
        "train_datagen = ImageDataGenerator(\n",
        "        rescale=1./255,\n",
        "        shear_range=0.2,\n",
        "        zoom_range=0.2,\n",
        "        horizontal_flip=True)"
      ],
      "execution_count": 0,
      "outputs": []
    },
    {
      "cell_type": "code",
      "metadata": {
        "id": "ZA0Sz1cR_ncp",
        "colab_type": "code",
        "colab": {}
      },
      "source": [
        "test_datagen = ImageDataGenerator(rescale=1./255)"
      ],
      "execution_count": 0,
      "outputs": []
    },
    {
      "cell_type": "code",
      "metadata": {
        "id": "_pO2Dd2WDhjy",
        "colab_type": "code",
        "colab": {}
      },
      "source": [
        "# Import dataset from google drive\n",
        "from google.colab import drive\n",
        "\n",
        "drive.mount('/content/gdrive')\n",
        "root_path = 'gdrive/My Drive/code/machine_learning/dogs_vs_cats/dataset'  #change dir to your project folder"
      ],
      "execution_count": 0,
      "outputs": []
    },
    {
      "cell_type": "code",
      "metadata": {
        "id": "bCkIlTmG_pzv",
        "colab_type": "code",
        "colab": {}
      },
      "source": [
        "# Apply image augmentation to the training set and resizing images \n",
        "training_set = train_datagen.flow_from_directory(root_path + '/training_set',\n",
        "                                                 target_size=(64, 64),\n",
        "                                                 batch_size=32,\n",
        "                                                 class_mode='binary')"
      ],
      "execution_count": 0,
      "outputs": []
    },
    {
      "cell_type": "code",
      "metadata": {
        "id": "6vTP0rGlAXlI",
        "colab_type": "code",
        "colab": {}
      },
      "source": [
        "test_set = test_datagen.flow_from_directory(root_path + '/test_set',\n",
        "                                            target_size=(64, 64),\n",
        "                                            batch_size=32,\n",
        "                                            class_mode='binary')"
      ],
      "execution_count": 0,
      "outputs": []
    },
    {
      "cell_type": "code",
      "metadata": {
        "id": "YE9hzyB9AcMx",
        "colab_type": "code",
        "colab": {}
      },
      "source": [
        "classifier.fit_generator(training_set,\n",
        "                         steps_per_epoch=250,\n",
        "                         epochs=25,\n",
        "                         validation_data=test_set,\n",
        "                         validation_steps=100\n",
        "                         )"
      ],
      "execution_count": 0,
      "outputs": []
    },
    {
      "cell_type": "markdown",
      "metadata": {
        "id": "BZb8e9oF5C5p",
        "colab_type": "text"
      },
      "source": [
        "## Prediction"
      ]
    },
    {
      "cell_type": "code",
      "metadata": {
        "id": "9RAofFgQ5F-y",
        "colab_type": "code",
        "colab": {}
      },
      "source": [
        "# PART 3 - Predict\n",
        "# Step 1 - Save the model to disk\n",
        "import pickle\n",
        "\n",
        "from google.colab import drive\n",
        "drive.mount('/content/gdrive')\n",
        "\n",
        "# Serialize\n",
        "with open('gdrive/My Drive/code/machine_learning/dogs_vs_cats/finalized_model.pkl', 'wb') as handle:\n",
        "    pickle.dump(classifier, handle, pickle.HIGHEST_PROTOCOL)"
      ],
      "execution_count": 0,
      "outputs": []
    },
    {
      "cell_type": "code",
      "metadata": {
        "id": "G24DjDRd5skY",
        "colab_type": "code",
        "colab": {}
      },
      "source": [
        "# De-serialize\n",
        "with open('gdrive/My Drive/code/machine_learning/dogs_vs_cats/finalized_model.pkl', 'rb') as handle:\n",
        "    model = pickle.load(handle)\n",
        "\n",
        "model.summary()\n",
        "\n",
        "# Save model as JSON\n",
        "# from google.colab import files\n",
        "\n",
        "# files.download(\"model.json\")\n",
        "# model.save('weights.h5')\n",
        "# files.download('weights.h5')"
      ],
      "execution_count": 0,
      "outputs": []
    },
    {
      "cell_type": "code",
      "metadata": {
        "id": "IP-rMtIbHY8-",
        "colab_type": "code",
        "colab": {}
      },
      "source": [
        "# Load model from JSON\n",
        "# from keras.models import model_from_json\n",
        "\n",
        "# json_file = open('gdrive/My Drive/code/machine_learning/dogs_vs_cats/model.json', 'r')\n",
        "# loaded_model_json = json_file.read()\n",
        "# json_file.close()\n",
        "# loaded_model = model_from_json(loaded_model_json)\n",
        "\n",
        "# load weights into new model\n",
        "# loaded_model.load_weights('gdrive/My Drive/code/machine_learning/dogs_vs_cats/weights.h5')\n",
        "# loaded_model.summary()"
      ],
      "execution_count": 0,
      "outputs": []
    },
    {
      "cell_type": "code",
      "metadata": {
        "id": "F-JErzlY5uDj",
        "colab_type": "code",
        "colab": {}
      },
      "source": [
        "# now we can call various methods over mlp_nn as as:    \n",
        "from PIL import Image\n",
        "from skimage import transform\n",
        "import numpy as np\n",
        "\n",
        "def load(filename):\n",
        "   np_image = Image.open(filename)\n",
        "   np_image = np.array(np_image).astype('float32')/255\n",
        "   np_image = transform.resize(np_image, (64, 64, 3))\n",
        "   np_image = np.expand_dims(np_image, axis=0)\n",
        "   return np_image   "
      ],
      "execution_count": 0,
      "outputs": []
    },
    {
      "cell_type": "code",
      "metadata": {
        "id": "UKjCQL6F5yd1",
        "colab_type": "code",
        "colab": {}
      },
      "source": [
        "# Define classes\n",
        "classes = training_set.class_indices  \n",
        "print(classes)"
      ],
      "execution_count": 0,
      "outputs": []
    },
    {
      "cell_type": "code",
      "metadata": {
        "id": "nIBmkU0N5inB",
        "colab_type": "code",
        "colab": {}
      },
      "source": [
        "# Select random image\n",
        "import random\n",
        "from random import randint\n",
        "\n",
        "random_set = random.randint(0, 1) # 0 or 1\n",
        "random_image = random.randint(4001, 5000)\n",
        "\n",
        "if random_set == 1:\n",
        "  set = 'dogs'\n",
        "  image_name = 'dog.'+ str(random_image) +'.jpg'\n",
        "else:\n",
        "  set = 'cats'\n",
        "  image_name = 'cat.'+ str(random_image) +'.jpg' \n",
        "\n",
        "image_url = 'gdrive/My Drive/code/machine_learning/dogs_vs_cats/dataset/test_set/'+ set +'/'+ image_name\n",
        "image = load(image_url)\n",
        "\n",
        "# predict result\n",
        "accuracy = model.predict(image)\n",
        "result = model.predict_classes(image)\n",
        "\n",
        "if result[0][0] == 1:\n",
        "    prediction = 'Dog -'\n",
        "else:\n",
        "    prediction = 'Cat -'\n",
        "\n",
        "# Show image\n",
        "from matplotlib import pyplot as plt\n",
        "\n",
        "im = Image.open(image_url)\n",
        "plt.imshow(im)\n",
        "plt.show()\n",
        "\n",
        "# Show result\n",
        "print(prediction, round(accuracy[0][0], 3) * 100, \"%\")"
      ],
      "execution_count": 0,
      "outputs": []
    }
  ]
}